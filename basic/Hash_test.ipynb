{
 "cells": [
  {
   "cell_type": "markdown",
   "metadata": {},
   "source": [
    "## Hash\n",
    "simple hash example\n",
    "https://www.fun-coding.org/DS&AL1-6.html"
   ]
  },
  {
   "cell_type": "code",
   "execution_count": 2,
   "metadata": {},
   "outputs": [
    {
     "name": "stdout",
     "output_type": "stream",
     "text": [
      "{86: 'China', 91: 'India'}\n"
     ]
    }
   ],
   "source": [
    "# 1. key와 value를 국제전화코드를 예로 만들어보기.\n",
    "dial_code = dict()  # dial_code = {}\n",
    "dial_code[86] = 'China'\n",
    "dial_code[91] = 'India'\n",
    "print(dial_code)"
   ]
  },
  {
   "cell_type": "code",
   "execution_count": 3,
   "metadata": {},
   "outputs": [],
   "source": [
    "# 1_1. 간단한 해쉬 함수 \n",
    "def simple_hash_func(data):\n",
    "    return data % 10"
   ]
  },
  {
   "cell_type": "code",
   "execution_count": 4,
   "metadata": {},
   "outputs": [],
   "source": [
    "# 1_2. 해쉬 테이블 저장\n",
    "hash_table = list([0 for i in range(10)])\n",
    "def storage_data(hash_address, data):\n",
    "    hash_table[hash_address] = data"
   ]
  },
  {
   "cell_type": "code",
   "execution_count": 5,
   "metadata": {},
   "outputs": [],
   "source": [
    "# 1_3. 해쉬 테이블에서 특정 주소의 데이터를 가져오는 함수\n",
    "def get_data(key):\n",
    "    return hash_table[simple_hash_func(key)]"
   ]
  },
  {
   "cell_type": "code",
   "execution_count": 7,
   "metadata": {},
   "outputs": [
    {
     "name": "stdout",
     "output_type": "stream",
     "text": [
      "China\n"
     ]
    }
   ],
   "source": [
    "# 1_4. 실제 데이터를 저장하고 읽기\n",
    "address = simple_hash_func(86)\n",
    "storage_data(address, dial_code[86])\n",
    "print (get_data(86))"
   ]
  },
  {
   "cell_type": "code",
   "execution_count": null,
   "metadata": {},
   "outputs": [],
   "source": []
  },
  {
   "cell_type": "code",
   "execution_count": null,
   "metadata": {},
   "outputs": [],
   "source": []
  },
  {
   "cell_type": "code",
   "execution_count": 10,
   "metadata": {},
   "outputs": [
    {
     "name": "stdout",
     "output_type": "stream",
     "text": [
      "8064976682425904373\n",
      "-8096923752230732738\n",
      "5\n",
      "6\n"
     ]
    }
   ],
   "source": [
    "# 2. 내장함수 hash()로 해쉬키 만들기\n",
    "hash_key = hash('Dave')\n",
    "print(hash_key)\n",
    "hash_key1 = hash('Taehyung')\n",
    "print(hash_key1)\n",
    "hash_key = hash('Dave') % 8\n",
    "print(hash_key)\n",
    "hash_key1 = hash('Taehyung') % 8\n",
    "print(hash_key1)"
   ]
  },
  {
   "cell_type": "code",
   "execution_count": 12,
   "metadata": {},
   "outputs": [],
   "source": [
    "# 2_1. 임의로 8개의 해쉬 함수 만들기\n",
    "def hash_function(string):\n",
    "    return hash(string) % 8"
   ]
  },
  {
   "cell_type": "code",
   "execution_count": 14,
   "metadata": {},
   "outputs": [],
   "source": [
    "# 2_2. key를 해싱함수로 사용해서 데이터 저장하기\n",
    "data = {}\n",
    "data[hash_function('Dave')] = '000-1111-2222'\n",
    "data[hash_function('David')] = '000-2222-3333'"
   ]
  },
  {
   "cell_type": "code",
   "execution_count": 16,
   "metadata": {},
   "outputs": [
    {
     "name": "stdout",
     "output_type": "stream",
     "text": [
      "000-1111-2222\n",
      "000-2222-3333\n"
     ]
    }
   ],
   "source": [
    "# 2_3. 해싱함수를 사용해서 데이터 읽어오기\n",
    "print(data[hash_function('Dave')])\n",
    "print(data[hash_function('David')])"
   ]
  },
  {
   "cell_type": "markdown",
   "metadata": {},
   "source": [
    "## hash 장단점\n",
    "해쉬는 키에 대한 데이터가 있는지(중복) 확인이 쉬움\n",
    "\n",
    "캐쉬로 활용 시에도 유용함\n",
    "\n",
    "여러 키에 해당하는 주소가 동일할 경우 충돌을 해결하기 위한 별도 자료구조가 필요함\n",
    "\n",
    "예: 알파벳을 키로 하는 해쉬테이블 공간을 10개로 놓았을 경우,\n",
    "\n",
    "몇몇은 공간이 충돌됨\n",
    "\n",
    "좋은 해쉬 함수 사용하기\n",
    "\n",
    "충돌이 많은 해쉬 함수는 성능을 떨어뜨림\n",
    "\n",
    "주소에 키에 대한 데이터를 고루 분표시키는 함수\n",
    "\n",
    "근래 SHA(Secure Hash Algorithm) 함수등이 많이 사용됨\n",
    "\n",
    "적합한 해쉬 테이블 사이즈\n",
    "\n",
    "해쉬 테이블 사용률: 해쉬 테이블에 있는 항목의 수 / 해쉬 테이블에 있는 공간의 수\n",
    "\n",
    "보통 해쉬 테이블 사용률이 0.7 이상이면 해쉬 테이블 사이즈를 2배로 늘림\n",
    "\n",
    "실제 유명한 해쉬 함수들이 있음: SHA(Secure Hash Algorithm, 안전한 해시 알고리즘)"
   ]
  },
  {
   "cell_type": "code",
   "execution_count": null,
   "metadata": {},
   "outputs": [],
   "source": []
  }
 ],
 "metadata": {
  "kernelspec": {
   "display_name": "Python 3",
   "language": "python",
   "name": "python3"
  },
  "language_info": {
   "codemirror_mode": {
    "name": "ipython",
    "version": 3
   },
   "file_extension": ".py",
   "mimetype": "text/x-python",
   "name": "python",
   "nbconvert_exporter": "python",
   "pygments_lexer": "ipython3",
   "version": "3.6.8"
  }
 },
 "nbformat": 4,
 "nbformat_minor": 2
}
