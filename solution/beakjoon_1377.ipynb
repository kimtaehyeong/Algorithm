{
 "cells": [
  {
   "cell_type": "markdown",
   "metadata": {},
   "source": [
    "## Bubble_sort\n",
    " https://www.acmicpc.net/problem/1377\n"
   ]
  },
  {
   "cell_type": "code",
   "execution_count": 4,
   "metadata": {},
   "outputs": [
    {
     "name": "stdout",
     "output_type": "stream",
     "text": [
      "5\n",
      "10\n",
      "1\n",
      "5\n",
      "2\n",
      "3\n"
     ]
    }
   ],
   "source": [
    "# 입력\n",
    "A = []\n",
    "N = int(input())\n",
    "\n",
    "for i in range(N):\n",
    "    a = int(input())\n",
    "    A.append([a,i])"
   ]
  },
  {
   "cell_type": "code",
   "execution_count": 5,
   "metadata": {},
   "outputs": [
    {
     "name": "stdout",
     "output_type": "stream",
     "text": [
      "[[10, 0], [1, 1], [5, 2], [2, 3], [3, 4]]\n",
      "[[1, 1], [2, 3], [3, 4], [5, 2], [10, 0]]\n"
     ]
    }
   ],
   "source": [
    "print(A) # 정렬 전 값 출력\n",
    "A.sort() # 정렬 후 값 출력\n",
    "print(A)"
   ]
  },
  {
   "cell_type": "code",
   "execution_count": 7,
   "metadata": {},
   "outputs": [
    {
     "name": "stdout",
     "output_type": "stream",
     "text": [
      "3\n"
     ]
    }
   ],
   "source": [
    "answer = 0\n",
    "for j in range(N):\n",
    "    if answer < A[j][1] - j:\n",
    "        answer = A[j][1] - j\n",
    "print(answer+1)"
   ]
  }
 ],
 "metadata": {
  "kernelspec": {
   "display_name": "Python 3",
   "language": "python",
   "name": "python3"
  },
  "language_info": {
   "codemirror_mode": {
    "name": "ipython",
    "version": 3
   },
   "file_extension": ".py",
   "mimetype": "text/x-python",
   "name": "python",
   "nbconvert_exporter": "python",
   "pygments_lexer": "ipython3",
   "version": "3.6.8"
  }
 },
 "nbformat": 4,
 "nbformat_minor": 2
}
