{
 "cells": [
  {
   "cell_type": "markdown",
   "metadata": {},
   "source": [
    "## h_index\n",
    "https://programmers.co.kr/learn/courses/30/lessons/42747"
   ]
  },
  {
   "cell_type": "code",
   "execution_count": 1,
   "metadata": {},
   "outputs": [],
   "source": [
    "def solution(citations):\n",
    "    citations.sort(reverse=False)\n",
    "    answer = 0\n",
    "    for i in range(len(citations)):\n",
    "        small = min(citations[i], len(citations)-i)\n",
    "        answer = max(answer, small)\n",
    "        print(i,answer)\n",
    "    return answer"
   ]
  },
  {
   "cell_type": "code",
   "execution_count": 2,
   "metadata": {},
   "outputs": [
    {
     "name": "stdout",
     "output_type": "stream",
     "text": [
      "0 0\n",
      "1 1\n",
      "2 3\n",
      "3 3\n",
      "4 3\n",
      "3\n"
     ]
    }
   ],
   "source": [
    "citations = [3,0,6,1,5]\n",
    "print(solution(citations))"
   ]
  }
 ],
 "metadata": {
  "kernelspec": {
   "display_name": "Python 3",
   "language": "python",
   "name": "python3"
  },
  "language_info": {
   "codemirror_mode": {
    "name": "ipython",
    "version": 3
   },
   "file_extension": ".py",
   "mimetype": "text/x-python",
   "name": "python",
   "nbconvert_exporter": "python",
   "pygments_lexer": "ipython3",
   "version": "3.6.8"
  }
 },
 "nbformat": 4,
 "nbformat_minor": 2
}
